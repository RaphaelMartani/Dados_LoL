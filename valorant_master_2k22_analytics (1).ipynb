{
  "metadata": {
    "kernelspec": {
      "language": "python",
      "display_name": "Python 3",
      "name": "python3"
    },
    "language_info": {
      "pygments_lexer": "ipython3",
      "nbconvert_exporter": "python",
      "version": "3.6.4",
      "file_extension": ".py",
      "codemirror_mode": {
        "name": "ipython",
        "version": 3
      },
      "name": "python",
      "mimetype": "text/x-python"
    },
    "colab": {
      "provenance": []
    }
  },
  "nbformat_minor": 0,
  "nbformat": 4,
  "cells": [
    {
      "cell_type": "markdown",
      "source": [
        "#Valorant é o E-sports que vem mais crescendo nos ultimos tempos, desde seu lançamento em 2020, o jogo é o novo FPS competitivo da Riot Games, a mesma desenvolvedora de League of Legends, que mistura bastante elementos de Overwatch e CS:GO.\n",
        "\n",
        "#O VALORANT Masters Reykjavik 2022 é o primeiro campeonato internacional de VALORANT do ano. Ao todo são 12 times lutando pelo título, premiação em dinheiro e pontos no circuito Challengers. O Brasil terá dois representantes na competição: LOUD e NiP (Ninjas in Pyjamas).\n",
        "\n",
        "#\"O Valorant conseguiu ultrapassar a marca dos 15 milhões de jogadores ativos por mês, de acordo com o portal Talk Esports. O número foi registrado no mês de janeiro deste ano, mostrando um aumento considerável de acordo com o último dado apresentado pela Riot Games.\" de : https://ge.globo.com/esports/valorant/noticia/valorant-jogo-atingiu-marca-de-15-milhoes-de-jogadores-por-mes.ghtml"
      ],
      "metadata": {
        "id": "KCXI0XZlAs_q"
      }
    },
    {
      "cell_type": "code",
      "source": [
        "#primeiro vamos importar nossas bibliotecas padrões.\n",
        "!git clone https://github.com/RaphaelMartani/Dados_LoL.git\n",
        "import pandas as pd\n",
        "import numpy as np\n",
        "import matplotlib.pyplot as plt\n",
        "%matplotlib inline\n",
        "import seaborn as sns\n",
        "import plotly.express as px\n"
      ],
      "metadata": {
        "execution": {
          "iopub.status.busy": "2022-05-05T16:42:43.923981Z",
          "iopub.execute_input": "2022-05-05T16:42:43.924421Z",
          "iopub.status.idle": "2022-05-05T16:42:45.434271Z",
          "shell.execute_reply.started": "2022-05-05T16:42:43.924376Z",
          "shell.execute_reply": "2022-05-05T16:42:45.433144Z"
        },
        "trusted": true,
        "colab": {
          "base_uri": "https://localhost:8080/"
        },
        "id": "B32lyATgAs_s",
        "outputId": "c07afa0d-587a-4b82-9907-614f9c02e4a0"
      },
      "execution_count": 14,
      "outputs": [
        {
          "output_type": "stream",
          "name": "stdout",
          "text": [
            "Cloning into 'Dados_LoL'...\n",
            "remote: Enumerating objects: 67, done.\u001b[K\n",
            "remote: Counting objects: 100% (67/67), done.\u001b[K\n",
            "remote: Compressing objects: 100% (60/60), done.\u001b[K\n",
            "remote: Total 67 (delta 11), reused 0 (delta 0), pack-reused 0\u001b[K\n",
            "Unpacking objects: 100% (67/67), 29.81 MiB | 3.64 MiB/s, done.\n"
          ]
        }
      ]
    },
    {
      "cell_type": "code",
      "source": [
        "%cd Dados_LoL"
      ],
      "metadata": {
        "colab": {
          "base_uri": "https://localhost:8080/"
        },
        "id": "QHE9NYxdHuPp",
        "outputId": "0231f29d-65ed-40f8-a0f4-f850256652cf"
      },
      "execution_count": 15,
      "outputs": [
        {
          "output_type": "stream",
          "name": "stdout",
          "text": [
            "/content/Dados_LoL/Dados_LoL\n"
          ]
        }
      ]
    },
    {
      "cell_type": "code",
      "source": [
        "dados_all = pd.read_csv('dados/Combined Data.csv')\n",
        "dados_players = pd.read_csv('dados/Players_stats.csv', sep=';' ,encoding= \"ISO-8859-1\")\n",
        "dados_agents = pd.read_csv('dados/agents_master_2022.csv',sep=';')"
      ],
      "metadata": {
        "execution": {
          "iopub.status.busy": "2022-05-05T16:42:45.436856Z",
          "iopub.execute_input": "2022-05-05T16:42:45.437212Z",
          "iopub.status.idle": "2022-05-05T16:42:45.461903Z",
          "shell.execute_reply.started": "2022-05-05T16:42:45.437163Z",
          "shell.execute_reply": "2022-05-05T16:42:45.461037Z"
        },
        "trusted": true,
        "id": "p8-Wvm2RAs_u"
      },
      "execution_count": 16,
      "outputs": []
    },
    {
      "cell_type": "markdown",
      "source": [
        "# **Analise dos agentes que foram escolhidos no mundial**"
      ],
      "metadata": {
        "id": "JH1Q4YfkAs_u"
      }
    },
    {
      "cell_type": "code",
      "source": [
        "#Primeiro vamos arrumar o nome das colunas e depois as linhas.\n",
        "\n",
        "dados_players.columns = dados_players.columns.str.replace('[#,@,\\t]','')"
      ],
      "metadata": {
        "execution": {
          "iopub.status.busy": "2022-05-05T16:42:45.528759Z",
          "iopub.execute_input": "2022-05-05T16:42:45.529101Z",
          "iopub.status.idle": "2022-05-05T16:42:45.534735Z",
          "shell.execute_reply.started": "2022-05-05T16:42:45.529072Z",
          "shell.execute_reply": "2022-05-05T16:42:45.53415Z"
        },
        "trusted": true,
        "colab": {
          "base_uri": "https://localhost:8080/"
        },
        "id": "NgjW06RjAs_u",
        "outputId": "4ee88dfc-12e7-4e1d-82bf-c7c35be46d50"
      },
      "execution_count": 17,
      "outputs": [
        {
          "output_type": "stream",
          "name": "stderr",
          "text": [
            "<ipython-input-17-e93438a70948>:3: FutureWarning: The default value of regex will change from True to False in a future version.\n",
            "  dados_players.columns = dados_players.columns.str.replace('[#,@,\\t]','')\n"
          ]
        }
      ]
    },
    {
      "cell_type": "code",
      "source": [
        "dados_players.head(2)"
      ],
      "metadata": {
        "execution": {
          "iopub.status.busy": "2022-05-05T16:42:45.536425Z",
          "iopub.execute_input": "2022-05-05T16:42:45.536853Z",
          "iopub.status.idle": "2022-05-05T16:42:45.561323Z",
          "shell.execute_reply.started": "2022-05-05T16:42:45.536809Z",
          "shell.execute_reply": "2022-05-05T16:42:45.560305Z"
        },
        "trusted": true,
        "colab": {
          "base_uri": "https://localhost:8080/",
          "height": 112
        },
        "id": "XlwFcCg6As_v",
        "outputId": "80ab5ec5-f420-41b8-b3b8-9d198d7d02fa"
      },
      "execution_count": 18,
      "outputs": [
        {
          "output_type": "execute_result",
          "data": {
            "text/plain": [
              "     Player            Team     Agents  Maps    K    D   A    KD   KDA  \\\n",
              "0  ScreaM\\t   Team Liquid\\t     Jett\\t    11  210  172  75  1.22  1.65   \n",
              "1     Yay\\t  OpTic Gaming\\t  Chamber\\t    21  417  317  69  1.31  1.53   \n",
              "\n",
              "   ACS/Map  K/Map  D/Map  A/Map  \n",
              "0      260   19.0   15.6    6.8  \n",
              "1      252   19.8   15.0    3.2  "
            ],
            "text/html": [
              "\n",
              "  <div id=\"df-7691c6c3-7153-4a47-8ebc-bdc780fd1bee\">\n",
              "    <div class=\"colab-df-container\">\n",
              "      <div>\n",
              "<style scoped>\n",
              "    .dataframe tbody tr th:only-of-type {\n",
              "        vertical-align: middle;\n",
              "    }\n",
              "\n",
              "    .dataframe tbody tr th {\n",
              "        vertical-align: top;\n",
              "    }\n",
              "\n",
              "    .dataframe thead th {\n",
              "        text-align: right;\n",
              "    }\n",
              "</style>\n",
              "<table border=\"1\" class=\"dataframe\">\n",
              "  <thead>\n",
              "    <tr style=\"text-align: right;\">\n",
              "      <th></th>\n",
              "      <th>Player</th>\n",
              "      <th>Team</th>\n",
              "      <th>Agents</th>\n",
              "      <th>Maps</th>\n",
              "      <th>K</th>\n",
              "      <th>D</th>\n",
              "      <th>A</th>\n",
              "      <th>KD</th>\n",
              "      <th>KDA</th>\n",
              "      <th>ACS/Map</th>\n",
              "      <th>K/Map</th>\n",
              "      <th>D/Map</th>\n",
              "      <th>A/Map</th>\n",
              "    </tr>\n",
              "  </thead>\n",
              "  <tbody>\n",
              "    <tr>\n",
              "      <th>0</th>\n",
              "      <td>ScreaM\\t</td>\n",
              "      <td>Team Liquid\\t</td>\n",
              "      <td>Jett\\t</td>\n",
              "      <td>11</td>\n",
              "      <td>210</td>\n",
              "      <td>172</td>\n",
              "      <td>75</td>\n",
              "      <td>1.22</td>\n",
              "      <td>1.65</td>\n",
              "      <td>260</td>\n",
              "      <td>19.0</td>\n",
              "      <td>15.6</td>\n",
              "      <td>6.8</td>\n",
              "    </tr>\n",
              "    <tr>\n",
              "      <th>1</th>\n",
              "      <td>Yay\\t</td>\n",
              "      <td>OpTic Gaming\\t</td>\n",
              "      <td>Chamber\\t</td>\n",
              "      <td>21</td>\n",
              "      <td>417</td>\n",
              "      <td>317</td>\n",
              "      <td>69</td>\n",
              "      <td>1.31</td>\n",
              "      <td>1.53</td>\n",
              "      <td>252</td>\n",
              "      <td>19.8</td>\n",
              "      <td>15.0</td>\n",
              "      <td>3.2</td>\n",
              "    </tr>\n",
              "  </tbody>\n",
              "</table>\n",
              "</div>\n",
              "      <button class=\"colab-df-convert\" onclick=\"convertToInteractive('df-7691c6c3-7153-4a47-8ebc-bdc780fd1bee')\"\n",
              "              title=\"Convert this dataframe to an interactive table.\"\n",
              "              style=\"display:none;\">\n",
              "        \n",
              "  <svg xmlns=\"http://www.w3.org/2000/svg\" height=\"24px\"viewBox=\"0 0 24 24\"\n",
              "       width=\"24px\">\n",
              "    <path d=\"M0 0h24v24H0V0z\" fill=\"none\"/>\n",
              "    <path d=\"M18.56 5.44l.94 2.06.94-2.06 2.06-.94-2.06-.94-.94-2.06-.94 2.06-2.06.94zm-11 1L8.5 8.5l.94-2.06 2.06-.94-2.06-.94L8.5 2.5l-.94 2.06-2.06.94zm10 10l.94 2.06.94-2.06 2.06-.94-2.06-.94-.94-2.06-.94 2.06-2.06.94z\"/><path d=\"M17.41 7.96l-1.37-1.37c-.4-.4-.92-.59-1.43-.59-.52 0-1.04.2-1.43.59L10.3 9.45l-7.72 7.72c-.78.78-.78 2.05 0 2.83L4 21.41c.39.39.9.59 1.41.59.51 0 1.02-.2 1.41-.59l7.78-7.78 2.81-2.81c.8-.78.8-2.07 0-2.86zM5.41 20L4 18.59l7.72-7.72 1.47 1.35L5.41 20z\"/>\n",
              "  </svg>\n",
              "      </button>\n",
              "      \n",
              "  <style>\n",
              "    .colab-df-container {\n",
              "      display:flex;\n",
              "      flex-wrap:wrap;\n",
              "      gap: 12px;\n",
              "    }\n",
              "\n",
              "    .colab-df-convert {\n",
              "      background-color: #E8F0FE;\n",
              "      border: none;\n",
              "      border-radius: 50%;\n",
              "      cursor: pointer;\n",
              "      display: none;\n",
              "      fill: #1967D2;\n",
              "      height: 32px;\n",
              "      padding: 0 0 0 0;\n",
              "      width: 32px;\n",
              "    }\n",
              "\n",
              "    .colab-df-convert:hover {\n",
              "      background-color: #E2EBFA;\n",
              "      box-shadow: 0px 1px 2px rgba(60, 64, 67, 0.3), 0px 1px 3px 1px rgba(60, 64, 67, 0.15);\n",
              "      fill: #174EA6;\n",
              "    }\n",
              "\n",
              "    [theme=dark] .colab-df-convert {\n",
              "      background-color: #3B4455;\n",
              "      fill: #D2E3FC;\n",
              "    }\n",
              "\n",
              "    [theme=dark] .colab-df-convert:hover {\n",
              "      background-color: #434B5C;\n",
              "      box-shadow: 0px 1px 3px 1px rgba(0, 0, 0, 0.15);\n",
              "      filter: drop-shadow(0px 1px 2px rgba(0, 0, 0, 0.3));\n",
              "      fill: #FFFFFF;\n",
              "    }\n",
              "  </style>\n",
              "\n",
              "      <script>\n",
              "        const buttonEl =\n",
              "          document.querySelector('#df-7691c6c3-7153-4a47-8ebc-bdc780fd1bee button.colab-df-convert');\n",
              "        buttonEl.style.display =\n",
              "          google.colab.kernel.accessAllowed ? 'block' : 'none';\n",
              "\n",
              "        async function convertToInteractive(key) {\n",
              "          const element = document.querySelector('#df-7691c6c3-7153-4a47-8ebc-bdc780fd1bee');\n",
              "          const dataTable =\n",
              "            await google.colab.kernel.invokeFunction('convertToInteractive',\n",
              "                                                     [key], {});\n",
              "          if (!dataTable) return;\n",
              "\n",
              "          const docLinkHtml = 'Like what you see? Visit the ' +\n",
              "            '<a target=\"_blank\" href=https://colab.research.google.com/notebooks/data_table.ipynb>data table notebook</a>'\n",
              "            + ' to learn more about interactive tables.';\n",
              "          element.innerHTML = '';\n",
              "          dataTable['output_type'] = 'display_data';\n",
              "          await google.colab.output.renderOutput(dataTable, element);\n",
              "          const docLink = document.createElement('div');\n",
              "          docLink.innerHTML = docLinkHtml;\n",
              "          element.appendChild(docLink);\n",
              "        }\n",
              "      </script>\n",
              "    </div>\n",
              "  </div>\n",
              "  "
            ]
          },
          "metadata": {},
          "execution_count": 18
        }
      ]
    },
    {
      "cell_type": "code",
      "source": [
        "#Agora vamos retirar esses \\t das linhas do nosso trabalho.\n",
        "\n",
        "\n",
        "dados_players['Player'] = dados_players['Player'].str.replace('\\t','')\n",
        "dados_players['Team'] = dados_players['Team'].str.replace('\\t','')\n",
        "dados_players['Agents'] = dados_players['Agents'].str.replace('\\t','')"
      ],
      "metadata": {
        "execution": {
          "iopub.status.busy": "2022-05-05T16:42:45.56244Z",
          "iopub.execute_input": "2022-05-05T16:42:45.563302Z",
          "iopub.status.idle": "2022-05-05T16:42:45.572184Z",
          "shell.execute_reply.started": "2022-05-05T16:42:45.563257Z",
          "shell.execute_reply": "2022-05-05T16:42:45.571229Z"
        },
        "trusted": true,
        "id": "AjNIdQ9pAs_v"
      },
      "execution_count": 19,
      "outputs": []
    },
    {
      "cell_type": "markdown",
      "source": [
        "**Fazendo analise da nossa tabela**"
      ],
      "metadata": {
        "id": "s7MKth3nAs_v"
      }
    },
    {
      "cell_type": "code",
      "source": [
        "dados_players.head(3)"
      ],
      "metadata": {
        "execution": {
          "iopub.status.busy": "2022-05-05T16:42:45.573421Z",
          "iopub.execute_input": "2022-05-05T16:42:45.573747Z",
          "iopub.status.idle": "2022-05-05T16:42:45.604538Z",
          "shell.execute_reply.started": "2022-05-05T16:42:45.573691Z",
          "shell.execute_reply": "2022-05-05T16:42:45.603723Z"
        },
        "trusted": true,
        "id": "WNSpAryFAs_v"
      },
      "execution_count": null,
      "outputs": []
    },
    {
      "cell_type": "code",
      "source": [
        "#Analisando os times de acordo com os KDA.\n",
        "\n",
        "kdas = ['Team','Maps','KDA']\n",
        "kda = dados_players.filter(items=kdas)\n",
        "kda.groupby(['Team']).mean()"
      ],
      "metadata": {
        "execution": {
          "iopub.status.busy": "2022-05-05T16:42:45.605948Z",
          "iopub.execute_input": "2022-05-05T16:42:45.606576Z",
          "iopub.status.idle": "2022-05-05T16:42:45.624459Z",
          "shell.execute_reply.started": "2022-05-05T16:42:45.606529Z",
          "shell.execute_reply": "2022-05-05T16:42:45.623266Z"
        },
        "trusted": true,
        "colab": {
          "base_uri": "https://localhost:8080/",
          "height": 457
        },
        "id": "jkrwV537As_w",
        "outputId": "5f1e65d9-f78f-40da-c0e1-33b8bb459ee5"
      },
      "execution_count": 20,
      "outputs": [
        {
          "output_type": "execute_result",
          "data": {
            "text/plain": [
              "                   Maps    KDA\n",
              "Team                          \n",
              "DRX                13.0  1.522\n",
              "Fnatic              4.0  1.178\n",
              "G2 Esports          6.0  1.216\n",
              "KRÃ Esports        4.0  1.134\n",
              "LOUD               11.0  1.370\n",
              "Ninjas in Pyjamas   7.0  1.282\n",
              "OpTic Gaming       21.0  1.468\n",
              "Paper Rex          10.0  1.384\n",
              "Team Liquid        11.0  1.436\n",
              "The Guard           5.0  1.232\n",
              "XERXIA              7.0  1.226\n",
              "ZETA DIVISION      21.0  1.346"
            ],
            "text/html": [
              "\n",
              "  <div id=\"df-1ff4271a-1304-43d1-8c49-9f6ad857d34d\">\n",
              "    <div class=\"colab-df-container\">\n",
              "      <div>\n",
              "<style scoped>\n",
              "    .dataframe tbody tr th:only-of-type {\n",
              "        vertical-align: middle;\n",
              "    }\n",
              "\n",
              "    .dataframe tbody tr th {\n",
              "        vertical-align: top;\n",
              "    }\n",
              "\n",
              "    .dataframe thead th {\n",
              "        text-align: right;\n",
              "    }\n",
              "</style>\n",
              "<table border=\"1\" class=\"dataframe\">\n",
              "  <thead>\n",
              "    <tr style=\"text-align: right;\">\n",
              "      <th></th>\n",
              "      <th>Maps</th>\n",
              "      <th>KDA</th>\n",
              "    </tr>\n",
              "    <tr>\n",
              "      <th>Team</th>\n",
              "      <th></th>\n",
              "      <th></th>\n",
              "    </tr>\n",
              "  </thead>\n",
              "  <tbody>\n",
              "    <tr>\n",
              "      <th>DRX</th>\n",
              "      <td>13.0</td>\n",
              "      <td>1.522</td>\n",
              "    </tr>\n",
              "    <tr>\n",
              "      <th>Fnatic</th>\n",
              "      <td>4.0</td>\n",
              "      <td>1.178</td>\n",
              "    </tr>\n",
              "    <tr>\n",
              "      <th>G2 Esports</th>\n",
              "      <td>6.0</td>\n",
              "      <td>1.216</td>\n",
              "    </tr>\n",
              "    <tr>\n",
              "      <th>KRÃ Esports</th>\n",
              "      <td>4.0</td>\n",
              "      <td>1.134</td>\n",
              "    </tr>\n",
              "    <tr>\n",
              "      <th>LOUD</th>\n",
              "      <td>11.0</td>\n",
              "      <td>1.370</td>\n",
              "    </tr>\n",
              "    <tr>\n",
              "      <th>Ninjas in Pyjamas</th>\n",
              "      <td>7.0</td>\n",
              "      <td>1.282</td>\n",
              "    </tr>\n",
              "    <tr>\n",
              "      <th>OpTic Gaming</th>\n",
              "      <td>21.0</td>\n",
              "      <td>1.468</td>\n",
              "    </tr>\n",
              "    <tr>\n",
              "      <th>Paper Rex</th>\n",
              "      <td>10.0</td>\n",
              "      <td>1.384</td>\n",
              "    </tr>\n",
              "    <tr>\n",
              "      <th>Team Liquid</th>\n",
              "      <td>11.0</td>\n",
              "      <td>1.436</td>\n",
              "    </tr>\n",
              "    <tr>\n",
              "      <th>The Guard</th>\n",
              "      <td>5.0</td>\n",
              "      <td>1.232</td>\n",
              "    </tr>\n",
              "    <tr>\n",
              "      <th>XERXIA</th>\n",
              "      <td>7.0</td>\n",
              "      <td>1.226</td>\n",
              "    </tr>\n",
              "    <tr>\n",
              "      <th>ZETA DIVISION</th>\n",
              "      <td>21.0</td>\n",
              "      <td>1.346</td>\n",
              "    </tr>\n",
              "  </tbody>\n",
              "</table>\n",
              "</div>\n",
              "      <button class=\"colab-df-convert\" onclick=\"convertToInteractive('df-1ff4271a-1304-43d1-8c49-9f6ad857d34d')\"\n",
              "              title=\"Convert this dataframe to an interactive table.\"\n",
              "              style=\"display:none;\">\n",
              "        \n",
              "  <svg xmlns=\"http://www.w3.org/2000/svg\" height=\"24px\"viewBox=\"0 0 24 24\"\n",
              "       width=\"24px\">\n",
              "    <path d=\"M0 0h24v24H0V0z\" fill=\"none\"/>\n",
              "    <path d=\"M18.56 5.44l.94 2.06.94-2.06 2.06-.94-2.06-.94-.94-2.06-.94 2.06-2.06.94zm-11 1L8.5 8.5l.94-2.06 2.06-.94-2.06-.94L8.5 2.5l-.94 2.06-2.06.94zm10 10l.94 2.06.94-2.06 2.06-.94-2.06-.94-.94-2.06-.94 2.06-2.06.94z\"/><path d=\"M17.41 7.96l-1.37-1.37c-.4-.4-.92-.59-1.43-.59-.52 0-1.04.2-1.43.59L10.3 9.45l-7.72 7.72c-.78.78-.78 2.05 0 2.83L4 21.41c.39.39.9.59 1.41.59.51 0 1.02-.2 1.41-.59l7.78-7.78 2.81-2.81c.8-.78.8-2.07 0-2.86zM5.41 20L4 18.59l7.72-7.72 1.47 1.35L5.41 20z\"/>\n",
              "  </svg>\n",
              "      </button>\n",
              "      \n",
              "  <style>\n",
              "    .colab-df-container {\n",
              "      display:flex;\n",
              "      flex-wrap:wrap;\n",
              "      gap: 12px;\n",
              "    }\n",
              "\n",
              "    .colab-df-convert {\n",
              "      background-color: #E8F0FE;\n",
              "      border: none;\n",
              "      border-radius: 50%;\n",
              "      cursor: pointer;\n",
              "      display: none;\n",
              "      fill: #1967D2;\n",
              "      height: 32px;\n",
              "      padding: 0 0 0 0;\n",
              "      width: 32px;\n",
              "    }\n",
              "\n",
              "    .colab-df-convert:hover {\n",
              "      background-color: #E2EBFA;\n",
              "      box-shadow: 0px 1px 2px rgba(60, 64, 67, 0.3), 0px 1px 3px 1px rgba(60, 64, 67, 0.15);\n",
              "      fill: #174EA6;\n",
              "    }\n",
              "\n",
              "    [theme=dark] .colab-df-convert {\n",
              "      background-color: #3B4455;\n",
              "      fill: #D2E3FC;\n",
              "    }\n",
              "\n",
              "    [theme=dark] .colab-df-convert:hover {\n",
              "      background-color: #434B5C;\n",
              "      box-shadow: 0px 1px 3px 1px rgba(0, 0, 0, 0.15);\n",
              "      filter: drop-shadow(0px 1px 2px rgba(0, 0, 0, 0.3));\n",
              "      fill: #FFFFFF;\n",
              "    }\n",
              "  </style>\n",
              "\n",
              "      <script>\n",
              "        const buttonEl =\n",
              "          document.querySelector('#df-1ff4271a-1304-43d1-8c49-9f6ad857d34d button.colab-df-convert');\n",
              "        buttonEl.style.display =\n",
              "          google.colab.kernel.accessAllowed ? 'block' : 'none';\n",
              "\n",
              "        async function convertToInteractive(key) {\n",
              "          const element = document.querySelector('#df-1ff4271a-1304-43d1-8c49-9f6ad857d34d');\n",
              "          const dataTable =\n",
              "            await google.colab.kernel.invokeFunction('convertToInteractive',\n",
              "                                                     [key], {});\n",
              "          if (!dataTable) return;\n",
              "\n",
              "          const docLinkHtml = 'Like what you see? Visit the ' +\n",
              "            '<a target=\"_blank\" href=https://colab.research.google.com/notebooks/data_table.ipynb>data table notebook</a>'\n",
              "            + ' to learn more about interactive tables.';\n",
              "          element.innerHTML = '';\n",
              "          dataTable['output_type'] = 'display_data';\n",
              "          await google.colab.output.renderOutput(dataTable, element);\n",
              "          const docLink = document.createElement('div');\n",
              "          docLink.innerHTML = docLinkHtml;\n",
              "          element.appendChild(docLink);\n",
              "        }\n",
              "      </script>\n",
              "    </div>\n",
              "  </div>\n",
              "  "
            ]
          },
          "metadata": {},
          "execution_count": 20
        }
      ]
    },
    {
      "cell_type": "markdown",
      "source": [
        "**Conseguimos ver a quantidade de jogo por time x KD/A dos mesmo e podemos ver que a influencia de mais jogos impactou nesse resultado.**"
      ],
      "metadata": {
        "id": "uN9LHRqSAs_w"
      }
    },
    {
      "cell_type": "code",
      "source": [
        "#Fazendo nosso grafico para compararmos os mapas jogados com os kd/as\n",
        "\n",
        "kda.groupby(['Team']).mean().plot(kind='bar',figsize=(12,8))\n",
        "plt.title(\"mapas jogados x KDA\",fontsize=15, fontweight='bold')\n",
        "plt.xlabel(\"Times\", fontsize=15, fontweight='bold')\n",
        "plt.ylabel('MAPAS/KDA', fontsize=12, fontweight='bold');"
      ],
      "metadata": {
        "execution": {
          "iopub.status.busy": "2022-05-05T16:42:45.62588Z",
          "iopub.execute_input": "2022-05-05T16:42:45.626128Z",
          "iopub.status.idle": "2022-05-05T16:42:46.015871Z",
          "shell.execute_reply.started": "2022-05-05T16:42:45.626089Z",
          "shell.execute_reply": "2022-05-05T16:42:46.014832Z"
        },
        "trusted": true,
        "colab": {
          "base_uri": "https://localhost:8080/",
          "height": 904
        },
        "id": "dSFLjP85As_w",
        "outputId": "c2b10ab4-f7c8-4faa-8550-9e76da64b80a"
      },
      "execution_count": 21,
      "outputs": [
        {
          "output_type": "stream",
          "name": "stderr",
          "text": [
            "/usr/local/lib/python3.10/dist-packages/IPython/core/events.py:89: UserWarning: Glyph 156 (\\x9c) missing from current font.\n",
            "  func(*args, **kwargs)\n",
            "/usr/local/lib/python3.10/dist-packages/IPython/core/pylabtools.py:151: UserWarning: Glyph 156 (\\x9c) missing from current font.\n",
            "  fig.canvas.print_figure(bytes_io, **kw)\n"
          ]
        },
        {
          "output_type": "display_data",
          "data": {
            "text/plain": [
              "<Figure size 1200x800 with 1 Axes>"
            ],
            "image/png": "[encoded data removed]"
          },
          "metadata": {}
        }
      ]
    },
    {
      "cell_type": "code",
      "source": [
        "kda_players = ['Player', 'KDA']\n",
        "kda_player = dados_players.filter(items=kda_players)"
      ],
      "metadata": {
        "execution": {
          "iopub.status.busy": "2022-05-05T16:42:46.017082Z",
          "iopub.execute_input": "2022-05-05T16:42:46.017306Z",
          "iopub.status.idle": "2022-05-05T16:42:46.022743Z",
          "shell.execute_reply.started": "2022-05-05T16:42:46.017279Z",
          "shell.execute_reply": "2022-05-05T16:42:46.021656Z"
        },
        "trusted": true,
        "id": "5rsogEIAAs_x"
      },
      "execution_count": null,
      "outputs": []
    },
    {
      "cell_type": "code",
      "source": [
        "dados = kda_player.sort_values(by=['KDA','Player'],ascending=False).head(5)"
      ],
      "metadata": {
        "execution": {
          "iopub.status.busy": "2022-05-05T16:42:46.023924Z",
          "iopub.execute_input": "2022-05-05T16:42:46.024149Z",
          "iopub.status.idle": "2022-05-05T16:42:46.041338Z",
          "shell.execute_reply.started": "2022-05-05T16:42:46.024121Z",
          "shell.execute_reply": "2022-05-05T16:42:46.040282Z"
        },
        "trusted": true,
        "id": "DmbmxvcvAs_x"
      },
      "execution_count": null,
      "outputs": []
    },
    {
      "cell_type": "code",
      "source": [
        "dados.head(5)"
      ],
      "metadata": {
        "execution": {
          "iopub.status.busy": "2022-05-05T16:42:46.042836Z",
          "iopub.execute_input": "2022-05-05T16:42:46.04337Z",
          "iopub.status.idle": "2022-05-05T16:42:46.062653Z",
          "shell.execute_reply.started": "2022-05-05T16:42:46.043323Z",
          "shell.execute_reply": "2022-05-05T16:42:46.061692Z"
        },
        "trusted": true,
        "id": "un7yo441As_x"
      },
      "execution_count": null,
      "outputs": []
    },
    {
      "cell_type": "code",
      "source": [
        "fig, ax = plt.subplots(figsize=(12, 8))\n",
        "sns.barplot(y='KDA', x='Player', data=dados, color = '#0000FF')\n",
        "ax.set_title(\"TOP 5 KDA PLAYERS\", fontsize=15, fontweight='bold')\n",
        "ax.set_xlabel(\"Players\", fontsize=10, fontweight='bold')\n",
        "ax.set_ylabel(\"KD/A\", fontsize=10, fontweight='bold');\n"
      ],
      "metadata": {
        "execution": {
          "iopub.status.busy": "2022-05-05T16:42:46.064103Z",
          "iopub.execute_input": "2022-05-05T16:42:46.064558Z",
          "iopub.status.idle": "2022-05-05T16:42:46.302629Z",
          "shell.execute_reply.started": "2022-05-05T16:42:46.064403Z",
          "shell.execute_reply": "2022-05-05T16:42:46.301955Z"
        },
        "trusted": true,
        "id": "9xHwvwkyAs_x"
      },
      "execution_count": null,
      "outputs": []
    },
    {
      "cell_type": "code",
      "source": [
        "#Os personagens mais utilizados pelos profissionais.\n",
        "\n",
        "agente = ['Player','Agents']\n",
        "agentes = dados_players.filter(items=agente)"
      ],
      "metadata": {
        "execution": {
          "iopub.status.busy": "2022-05-05T16:42:46.30581Z",
          "iopub.execute_input": "2022-05-05T16:42:46.306179Z",
          "iopub.status.idle": "2022-05-05T16:42:46.31191Z",
          "shell.execute_reply.started": "2022-05-05T16:42:46.306148Z",
          "shell.execute_reply": "2022-05-05T16:42:46.310747Z"
        },
        "trusted": true,
        "id": "q9Ne5DhSAs_y"
      },
      "execution_count": null,
      "outputs": []
    },
    {
      "cell_type": "code",
      "source": [
        "#Quantidade de vezes que o personagem foi o escolhido pelos profissionais.\n",
        "\n",
        "plt.figure(figsize=(12,7))\n",
        "\n",
        "agentes['Agents'].value_counts().plot(kind=\"bar\", color = \"royalblue\")\n",
        "plt.title(\"Principais Agentes dos profissionais\",fontsize=15, fontweight='bold')\n",
        "plt.xlabel(\"Agentes\", fontsize=15, fontweight='bold')\n",
        "plt.ylabel('Qtd de Vezes Escolhidos', fontsize=12, fontweight='bold');"
      ],
      "metadata": {
        "execution": {
          "iopub.status.busy": "2022-05-05T16:42:46.313137Z",
          "iopub.execute_input": "2022-05-05T16:42:46.313372Z",
          "iopub.status.idle": "2022-05-05T16:42:46.614135Z",
          "shell.execute_reply.started": "2022-05-05T16:42:46.313343Z",
          "shell.execute_reply": "2022-05-05T16:42:46.613359Z"
        },
        "trusted": true,
        "id": "GKWEtpvQAs_y"
      },
      "execution_count": null,
      "outputs": []
    },
    {
      "cell_type": "markdown",
      "source": [
        "# Agora vamos estudar a porcentagem de vitorias e picks dos agentes"
      ],
      "metadata": {
        "id": "vjNLrNCbAs_y"
      }
    },
    {
      "cell_type": "code",
      "source": [
        "#Dado dos agentes em porcentagem durante os seus picks no campeonato.\n",
        "dados_agents"
      ],
      "metadata": {
        "execution": {
          "iopub.status.busy": "2022-05-05T16:42:46.615281Z",
          "iopub.execute_input": "2022-05-05T16:42:46.615721Z",
          "iopub.status.idle": "2022-05-05T16:42:46.645416Z",
          "shell.execute_reply.started": "2022-05-05T16:42:46.615669Z",
          "shell.execute_reply": "2022-05-05T16:42:46.644704Z"
        },
        "trusted": true,
        "id": "ZIp6cxh9As_y"
      },
      "execution_count": null,
      "outputs": []
    },
    {
      "cell_type": "code",
      "source": [
        "#Renomeando o pickrate para ser melhor estudado\n",
        "dados_agents.rename(columns={'Overall Pick Rate':'PickRate'},inplace=True)"
      ],
      "metadata": {
        "execution": {
          "iopub.status.busy": "2022-05-05T16:42:46.64707Z",
          "iopub.execute_input": "2022-05-05T16:42:46.648201Z",
          "iopub.status.idle": "2022-05-05T16:42:46.653977Z",
          "shell.execute_reply.started": "2022-05-05T16:42:46.648146Z",
          "shell.execute_reply": "2022-05-05T16:42:46.652657Z"
        },
        "trusted": true,
        "id": "aT8lzclwAs_z"
      },
      "execution_count": null,
      "outputs": []
    },
    {
      "cell_type": "code",
      "source": [
        "#Separando os melhores agentes em cada mapa para analise.\n",
        "pick1 = ['Agents', 'PickRate']\n",
        "PickRate = dados_agents.filter(items=pick1)\n",
        "\n",
        "pick2 = ['Agents', 'Split']\n",
        "Split = dados_agents.filter(items=pick2)\n",
        "\n",
        "pick3 = ['Agents', 'Bind']\n",
        "Bind = dados_agents.filter(items=pick3)\n",
        "\n",
        "pick4 = ['Agents', 'Haven']\n",
        "Haven = dados_agents.filter(items=pick4)\n",
        "\n",
        "pick5 = ['Agents', 'Ascent']\n",
        "Ascent = dados_agents.filter(items=pick5)\n",
        "\n",
        "pick6 = ['Agents', 'Icebox']\n",
        "Icebox = dados_agents.filter(items=pick6)\n",
        "\n",
        "pick7 = ['Agents', 'Breeze']\n",
        "Breeze = dados_agents.filter(items=pick7)\n",
        "\n",
        "pick8 = ['Agents', 'Fracture']\n",
        "Fracture = dados_agents.filter(items=pick8)"
      ],
      "metadata": {
        "execution": {
          "iopub.status.busy": "2022-05-05T16:42:46.655121Z",
          "iopub.execute_input": "2022-05-05T16:42:46.655457Z",
          "iopub.status.idle": "2022-05-05T16:42:46.67239Z",
          "shell.execute_reply.started": "2022-05-05T16:42:46.655428Z",
          "shell.execute_reply": "2022-05-05T16:42:46.671424Z"
        },
        "trusted": true,
        "id": "mHPMMyxTAs_z"
      },
      "execution_count": null,
      "outputs": []
    },
    {
      "cell_type": "code",
      "source": [
        "#agora vamos organizar para temos os melhores de cada mapa e os mais utilizados.\n",
        "\n",
        "Split= Split.sort_values(by=['Split','Agents'],ascending=False)\n",
        "PickRate= PickRate.sort_values(by=['PickRate','Agents'],ascending=False)\n",
        "Bind= Bind.sort_values(by=['Bind','Agents'],ascending=False)\n",
        "Haven= Haven.sort_values(by=['Haven','Agents'],ascending=False)\n",
        "Ascent= Ascent.sort_values(by=['Ascent','Agents'],ascending=False)\n",
        "Icebox= Icebox.sort_values(by=['Icebox','Agents'],ascending=False)\n",
        "Breeze= Breeze.sort_values(by=['Breeze','Agents'],ascending=False)\n",
        "Fracture= Fracture.sort_values(by=['Fracture','Agents'],ascending=False)"
      ],
      "metadata": {
        "execution": {
          "iopub.status.busy": "2022-05-05T16:42:46.673829Z",
          "iopub.execute_input": "2022-05-05T16:42:46.674504Z",
          "iopub.status.idle": "2022-05-05T16:42:46.699186Z",
          "shell.execute_reply.started": "2022-05-05T16:42:46.67447Z",
          "shell.execute_reply": "2022-05-05T16:42:46.698375Z"
        },
        "trusted": true,
        "id": "Mgo4o49-As_z"
      },
      "execution_count": null,
      "outputs": []
    },
    {
      "cell_type": "code",
      "source": [
        "Split.head()"
      ],
      "metadata": {
        "execution": {
          "iopub.status.busy": "2022-05-05T16:42:46.700532Z",
          "iopub.execute_input": "2022-05-05T16:42:46.700881Z",
          "iopub.status.idle": "2022-05-05T16:42:46.711459Z",
          "shell.execute_reply.started": "2022-05-05T16:42:46.700844Z",
          "shell.execute_reply": "2022-05-05T16:42:46.710634Z"
        },
        "trusted": true,
        "id": "UftB2tooAs_0"
      },
      "execution_count": null,
      "outputs": []
    },
    {
      "cell_type": "code",
      "source": [
        "PickRate.head()"
      ],
      "metadata": {
        "execution": {
          "iopub.status.busy": "2022-05-05T16:42:46.712787Z",
          "iopub.execute_input": "2022-05-05T16:42:46.713615Z",
          "iopub.status.idle": "2022-05-05T16:42:46.730284Z",
          "shell.execute_reply.started": "2022-05-05T16:42:46.713572Z",
          "shell.execute_reply": "2022-05-05T16:42:46.728981Z"
        },
        "trusted": true,
        "id": "cJM0nazHAs_1"
      },
      "execution_count": null,
      "outputs": []
    },
    {
      "cell_type": "markdown",
      "source": [
        "**Os agentes preferidos dos profissionais durante o campeonato**"
      ],
      "metadata": {
        "id": "J6mcf9WNAs_1"
      }
    },
    {
      "cell_type": "code",
      "source": [
        "plt.figure(figsize=(15,6))\n",
        "plt.title('Vezes em % que os agentes foram pegos no campeonato', fontsize= 15, fontweight='bold')\n",
        "plt.xlabel('Agents', fontsize= 15, fontweight='bold')\n",
        "plt.ylabel('% em Partidas', fontsize= 15, fontweight='bold')\n",
        "plt.plot(PickRate['Agents'], PickRate['PickRate'], linestyle='--', color='b', marker='s',\n",
        "         linewidth=3.0)\n",
        "plt.xticks(rotation=45, ha= 'right')\n",
        "plt.show()"
      ],
      "metadata": {
        "execution": {
          "iopub.status.busy": "2022-05-05T16:42:46.732388Z",
          "iopub.execute_input": "2022-05-05T16:42:46.733008Z",
          "iopub.status.idle": "2022-05-05T16:42:46.99346Z",
          "shell.execute_reply.started": "2022-05-05T16:42:46.732963Z",
          "shell.execute_reply": "2022-05-05T16:42:46.992507Z"
        },
        "trusted": true,
        "id": "EsITt5exAs_1"
      },
      "execution_count": null,
      "outputs": []
    },
    {
      "cell_type": "markdown",
      "source": [
        "**Agora vamos analisar por mapas, quais foram os melhores agentes de cada um deles**"
      ],
      "metadata": {
        "id": "j4UHxw6lAs_2"
      }
    },
    {
      "cell_type": "code",
      "source": [
        "#Agentes com a % de vitoria na split\n",
        "plt.figure(figsize=(15, 8))\n",
        "plots = sns.barplot(x=\"Agents\", y=\"Split\", data=Split)\n",
        "for bar in plots.patches:\n",
        "\n",
        "\n",
        "\n",
        "    plots.annotate(format(bar.get_height(), '.2f'),\n",
        "                   (bar.get_x() + bar.get_width() / 2,\n",
        "                    bar.get_height()), ha='center', va='center',\n",
        "                   size=10, xytext=(0, 5),\n",
        "                   textcoords='offset points')\n",
        "\n",
        "\n",
        "plt.title(\"MELHORES AGENTES X SPLIT\",fontsize= 12, fontweight='bold')\n",
        "plt.xlabel('Agents',fontsize= 12, fontweight='bold')\n",
        "plt.ylabel('% DE VITORIAS',fontsize= 12, fontweight='bold');\n",
        "\n",
        "\n",
        "#Agentes com a % de vitoria na Bind\n",
        "plt.figure(figsize=(15, 8))\n",
        "plots = sns.barplot(x=\"Agents\", y=\"Bind\", data=Bind)\n",
        "for bar in plots.patches:\n",
        "\n",
        "\n",
        "\n",
        "    plots.annotate(format(bar.get_height(), '.2f'),\n",
        "                   (bar.get_x() + bar.get_width() / 2,\n",
        "                    bar.get_height()), ha='center', va='center',\n",
        "                   size=10, xytext=(0, 5),\n",
        "                   textcoords='offset points')\n",
        "\n",
        "\n",
        "plt.title(\"MELHORES AGENTES X BIND\",fontsize= 12, fontweight='bold')\n",
        "plt.xlabel('Agents',fontsize= 12, fontweight='bold')\n",
        "plt.ylabel('% DE VITORIAS',fontsize= 12, fontweight='bold');\n",
        "\n",
        "#Agentes com a % de vitoria na Ascent\n",
        "plt.figure(figsize=(15, 8))\n",
        "plots = sns.barplot(x=\"Agents\", y=\"Ascent\", data=Ascent)\n",
        "for bar in plots.patches:\n",
        "\n",
        "\n",
        "\n",
        "    plots.annotate(format(bar.get_height(), '.2f'),\n",
        "                   (bar.get_x() + bar.get_width() / 2,\n",
        "                    bar.get_height()), ha='center', va='center',\n",
        "                   size=10, xytext=(0, 5),\n",
        "                   textcoords='offset points')\n",
        "\n",
        "\n",
        "plt.title(\"MELHORES AGENTES X ASCENT\",fontsize= 12, fontweight='bold')\n",
        "plt.xlabel('Agents',fontsize= 12, fontweight='bold')\n",
        "plt.ylabel('% DE VITORIAS',fontsize= 12, fontweight='bold');\n",
        "\n"
      ],
      "metadata": {
        "execution": {
          "iopub.status.busy": "2022-05-05T16:42:46.994625Z",
          "iopub.execute_input": "2022-05-05T16:42:46.994861Z",
          "iopub.status.idle": "2022-05-05T16:42:48.272702Z",
          "shell.execute_reply.started": "2022-05-05T16:42:46.994833Z",
          "shell.execute_reply": "2022-05-05T16:42:48.271847Z"
        },
        "trusted": true,
        "id": "QJz-vTIiAs_2"
      },
      "execution_count": null,
      "outputs": []
    },
    {
      "cell_type": "code",
      "source": [
        "#Agentes com a % de vitoria na Icebox\n",
        "plt.figure(figsize=(15, 8))\n",
        "plots = sns.barplot(x=\"Agents\", y=\"Icebox\", data=Icebox)\n",
        "for bar in plots.patches:\n",
        "\n",
        "\n",
        "\n",
        "    plots.annotate(format(bar.get_height(), '.2f'),\n",
        "                   (bar.get_x() + bar.get_width() / 2,\n",
        "                    bar.get_height()), ha='center', va='center',\n",
        "                   size=10, xytext=(0, 5),\n",
        "                   textcoords='offset points')\n",
        "\n",
        "\n",
        "plt.title(\"MELHORES AGENTES X ICEBOX\",fontsize= 12, fontweight='bold')\n",
        "plt.xlabel('Agents',fontsize= 12, fontweight='bold')\n",
        "plt.ylabel('% DE VITORIAS',fontsize= 12, fontweight='bold');\n",
        "\n",
        "\n",
        "#Agentes com a % de vitoria na Haven\n",
        "plt.figure(figsize=(15, 8))\n",
        "plots = sns.barplot(x=\"Agents\", y=\"Haven\", data=Haven)\n",
        "for bar in plots.patches:\n",
        "\n",
        "\n",
        "\n",
        "    plots.annotate(format(bar.get_height(), '.2f'),\n",
        "                   (bar.get_x() + bar.get_width() / 2,\n",
        "                    bar.get_height()), ha='center', va='center',\n",
        "                   size=10, xytext=(0, 5),\n",
        "                   textcoords='offset points')\n",
        "\n",
        "\n",
        "plt.title(\"MELHORES AGENTES X HAVEN\",fontsize= 12, fontweight='bold')\n",
        "plt.xlabel('Agents',fontsize= 12, fontweight='bold')\n",
        "plt.ylabel('% DE VITORIAS',fontsize= 12, fontweight='bold');\n",
        "\n",
        "\n",
        "#Agentes com a % de vitoria na Breeze\n",
        "plt.figure(figsize=(15, 8))\n",
        "plots = sns.barplot(x=\"Agents\", y=\"Breeze\", data=Breeze)\n",
        "for bar in plots.patches:\n",
        "\n",
        "\n",
        "\n",
        "    plots.annotate(format(bar.get_height(), '.2f'),\n",
        "                   (bar.get_x() + bar.get_width() / 2,\n",
        "                    bar.get_height()), ha='center', va='center',\n",
        "                   size=10, xytext=(0, 5),\n",
        "                   textcoords='offset points')\n",
        "\n",
        "\n",
        "plt.title(\"MELHORES AGENTES X BREEZE\",fontsize= 12, fontweight='bold')\n",
        "plt.xlabel('Agents',fontsize= 12, fontweight='bold')\n",
        "plt.ylabel('% DE VITORIAS',fontsize= 12, fontweight='bold');\n",
        "\n",
        "#Agentes com a % de vitoria na Breeze\n",
        "plt.figure(figsize=(15, 8))\n",
        "plots = sns.barplot(x=\"Agents\", y=\"Fracture\", data=Fracture)\n",
        "for bar in plots.patches:\n",
        "\n",
        "\n",
        "\n",
        "    plots.annotate(format(bar.get_height(), '.2f'),\n",
        "                   (bar.get_x() + bar.get_width() / 2,\n",
        "                    bar.get_height()), ha='center', va='center',\n",
        "                   size=10, xytext=(0, 5),\n",
        "                   textcoords='offset points')\n",
        "\n",
        "\n",
        "plt.title(\"MELHORES AGENTES X FRACTURE\",fontsize= 12, fontweight='bold')\n",
        "plt.xlabel('Agents',fontsize= 12, fontweight='bold')\n",
        "plt.ylabel('% DE VITORIAS',fontsize= 12, fontweight='bold');"
      ],
      "metadata": {
        "execution": {
          "iopub.status.busy": "2022-05-05T16:42:48.274192Z",
          "iopub.execute_input": "2022-05-05T16:42:48.274896Z",
          "iopub.status.idle": "2022-05-05T16:42:50.01447Z",
          "shell.execute_reply.started": "2022-05-05T16:42:48.27486Z",
          "shell.execute_reply": "2022-05-05T16:42:50.013616Z"
        },
        "trusted": true,
        "id": "mX_7jM7oAs_2"
      },
      "execution_count": null,
      "outputs": []
    },
    {
      "cell_type": "markdown",
      "source": [
        "# **Vamos fazer as analises dos dados e gráficas dos nossos mapas**"
      ],
      "metadata": {
        "id": "6sDNnNYhAs_3"
      }
    },
    {
      "cell_type": "code",
      "source": [
        "dados_all"
      ],
      "metadata": {
        "execution": {
          "iopub.status.busy": "2022-05-05T16:42:50.016282Z",
          "iopub.execute_input": "2022-05-05T16:42:50.016896Z",
          "iopub.status.idle": "2022-05-05T16:42:50.035674Z",
          "shell.execute_reply.started": "2022-05-05T16:42:50.016848Z",
          "shell.execute_reply": "2022-05-05T16:42:50.033771Z"
        },
        "trusted": true,
        "id": "UN7Tj5guAs_3"
      },
      "execution_count": null,
      "outputs": []
    },
    {
      "cell_type": "code",
      "source": [
        "dados_all.isnull().sum()"
      ],
      "metadata": {
        "execution": {
          "iopub.status.busy": "2022-05-05T16:42:50.037075Z",
          "iopub.execute_input": "2022-05-05T16:42:50.037348Z",
          "iopub.status.idle": "2022-05-05T16:42:50.053014Z",
          "shell.execute_reply.started": "2022-05-05T16:42:50.037316Z",
          "shell.execute_reply": "2022-05-05T16:42:50.052029Z"
        },
        "trusted": true,
        "id": "z7F4UO1oAs_3"
      },
      "execution_count": null,
      "outputs": []
    },
    {
      "cell_type": "code",
      "source": [
        "dados_all.describe()"
      ],
      "metadata": {
        "execution": {
          "iopub.status.busy": "2022-05-05T16:42:50.054348Z",
          "iopub.execute_input": "2022-05-05T16:42:50.054852Z",
          "iopub.status.idle": "2022-05-05T16:42:50.106838Z",
          "shell.execute_reply.started": "2022-05-05T16:42:50.054814Z",
          "shell.execute_reply": "2022-05-05T16:42:50.106241Z"
        },
        "trusted": true,
        "id": "27Rjf2qBAs_3"
      },
      "execution_count": null,
      "outputs": []
    },
    {
      "cell_type": "code",
      "source": [
        "lista1 = ['Map','TotalPicks','GroupAPicks','GroupBPicks','PlayoffsPicks']\n",
        "escolha_mapas = dados_all.filter(items=lista1)"
      ],
      "metadata": {
        "execution": {
          "iopub.status.busy": "2022-05-05T16:42:50.108092Z",
          "iopub.execute_input": "2022-05-05T16:42:50.108504Z",
          "iopub.status.idle": "2022-05-05T16:42:50.113652Z",
          "shell.execute_reply.started": "2022-05-05T16:42:50.108473Z",
          "shell.execute_reply": "2022-05-05T16:42:50.112723Z"
        },
        "trusted": true,
        "id": "lkRl7my9As_4"
      },
      "execution_count": null,
      "outputs": []
    },
    {
      "cell_type": "code",
      "source": [
        "escolha_mapas"
      ],
      "metadata": {
        "execution": {
          "iopub.status.busy": "2022-05-05T16:42:50.114865Z",
          "iopub.execute_input": "2022-05-05T16:42:50.1156Z",
          "iopub.status.idle": "2022-05-05T16:42:50.140477Z",
          "shell.execute_reply.started": "2022-05-05T16:42:50.115557Z",
          "shell.execute_reply": "2022-05-05T16:42:50.138846Z"
        },
        "trusted": true,
        "id": "jpDUydwFAs_4"
      },
      "execution_count": null,
      "outputs": []
    },
    {
      "cell_type": "code",
      "source": [
        "lista2 = ['Map','TotalPicks', 'AtkWins','AtkWin%','DefWins','DefWin%']\n",
        "lados = dados_all.filter(items=lista2)"
      ],
      "metadata": {
        "execution": {
          "iopub.status.busy": "2022-05-05T16:42:50.141829Z",
          "iopub.execute_input": "2022-05-05T16:42:50.142527Z",
          "iopub.status.idle": "2022-05-05T16:42:50.149835Z",
          "shell.execute_reply.started": "2022-05-05T16:42:50.142458Z",
          "shell.execute_reply": "2022-05-05T16:42:50.148215Z"
        },
        "trusted": true,
        "id": "EcaxgnHGAs_4"
      },
      "execution_count": null,
      "outputs": []
    },
    {
      "cell_type": "code",
      "source": [
        "lados"
      ],
      "metadata": {
        "execution": {
          "iopub.status.busy": "2022-05-05T16:42:50.151705Z",
          "iopub.execute_input": "2022-05-05T16:42:50.152419Z",
          "iopub.status.idle": "2022-05-05T16:42:50.180117Z",
          "shell.execute_reply.started": "2022-05-05T16:42:50.152367Z",
          "shell.execute_reply": "2022-05-05T16:42:50.178874Z"
        },
        "trusted": true,
        "id": "cwT24v26As_4"
      },
      "execution_count": null,
      "outputs": []
    },
    {
      "cell_type": "code",
      "source": [
        "lista3 = ['Map', 'TotalBans','GroupABans','GroupBBans','PlayoffsBans']\n",
        "ban_mapas = dados_all.filter(items=lista3)\n"
      ],
      "metadata": {
        "execution": {
          "iopub.status.busy": "2022-05-05T16:42:50.184554Z",
          "iopub.execute_input": "2022-05-05T16:42:50.184918Z",
          "iopub.status.idle": "2022-05-05T16:42:50.19316Z",
          "shell.execute_reply.started": "2022-05-05T16:42:50.184874Z",
          "shell.execute_reply": "2022-05-05T16:42:50.19157Z"
        },
        "trusted": true,
        "id": "17rtyRnLAs_5"
      },
      "execution_count": null,
      "outputs": []
    },
    {
      "cell_type": "code",
      "source": [
        "ban_mapas"
      ],
      "metadata": {
        "execution": {
          "iopub.status.busy": "2022-05-05T16:42:50.194546Z",
          "iopub.execute_input": "2022-05-05T16:42:50.195589Z",
          "iopub.status.idle": "2022-05-05T16:42:50.222152Z",
          "shell.execute_reply.started": "2022-05-05T16:42:50.19555Z",
          "shell.execute_reply": "2022-05-05T16:42:50.221035Z"
        },
        "trusted": true,
        "id": "wpMUfKDAAtAC"
      },
      "execution_count": null,
      "outputs": []
    },
    {
      "cell_type": "markdown",
      "source": [
        "# **Agora vamos fazer a nossa visualização gráfica dos itens acima em ordem.**"
      ],
      "metadata": {
        "execution": {
          "iopub.status.busy": "2022-05-03T14:40:17.449094Z",
          "iopub.execute_input": "2022-05-03T14:40:17.449447Z",
          "iopub.status.idle": "2022-05-03T14:40:17.478338Z",
          "shell.execute_reply.started": "2022-05-03T14:40:17.449346Z",
          "shell.execute_reply": "2022-05-03T14:40:17.477583Z"
        },
        "id": "Dmknm6QhAtAC"
      }
    },
    {
      "cell_type": "code",
      "source": [
        "#Primeiro vamos fazer das escolhas dos mapas.\n",
        "\n",
        "fig, ax = plt.subplots(figsize=(10, 8))\n",
        "\n",
        "#Plot de barra\n",
        "sns.barplot(x='Map', y='TotalPicks', data=escolha_mapas, color = '#0000FF', alpha = 0.85)\n",
        "\n",
        "#Plot de torta\n",
        "\n",
        "plt.figure(figsize=(15,6))\n",
        "plt.title('Porcentagem dos picks - MAPAS',fontsize=12, fontweight='bold')\n",
        "Analise = round(escolha_mapas['Map'].value_counts(normalize=True) * 100, 1)\n",
        "plt.pie(escolha_mapas['TotalPicks'].head(10),\n",
        "        labels = Analise.index[0:10],\n",
        "        shadow=True,\n",
        "        startangle = 90,\n",
        "        autopct='%1.1f%%')\n",
        "\n",
        "#Arrumando o grafico de barra.\n",
        "\n",
        "ax.set_title(\"QTD DE PICKS - MAPAS\", fontsize=12, fontweight='bold')\n",
        "ax.set_xlabel(\"Mapas\", fontsize=12, fontweight='bold')\n",
        "ax.set_ylabel(\"Quantidade de picks\", fontsize=12, fontweight='bold');\n"
      ],
      "metadata": {
        "execution": {
          "iopub.status.busy": "2022-05-05T16:42:50.226854Z",
          "iopub.execute_input": "2022-05-05T16:42:50.227923Z",
          "iopub.status.idle": "2022-05-05T16:42:50.845664Z",
          "shell.execute_reply.started": "2022-05-05T16:42:50.227802Z",
          "shell.execute_reply": "2022-05-05T16:42:50.844587Z"
        },
        "trusted": true,
        "id": "ZzmaqByXAtAC"
      },
      "execution_count": null,
      "outputs": []
    },
    {
      "cell_type": "code",
      "source": [
        "#Vamos fazer agora dos banimentos dos MAPAS.\n",
        "\n",
        "ban_mapas"
      ],
      "metadata": {
        "execution": {
          "iopub.status.busy": "2022-05-05T16:42:50.847122Z",
          "iopub.execute_input": "2022-05-05T16:42:50.848056Z",
          "iopub.status.idle": "2022-05-05T16:42:50.860325Z",
          "shell.execute_reply.started": "2022-05-05T16:42:50.84801Z",
          "shell.execute_reply": "2022-05-05T16:42:50.859424Z"
        },
        "trusted": true,
        "id": "dLaG164MAtAD"
      },
      "execution_count": null,
      "outputs": []
    },
    {
      "cell_type": "code",
      "source": [
        "count = ban_mapas['TotalBans']\n",
        "mapa = ban_mapas['Map']\n",
        "\n",
        "plt.figure(figsize = (20, 8))\n",
        "plt.subplot(1, 2, 1)\n",
        "#Plot de barra\n",
        "plt.bar(mapa, count, ec = \"k\", alpha = .6, color = \"royalblue\")\n",
        "plt.xlabel(\"Mapas\", fontsize=12, fontweight='bold')\n",
        "plt.ylabel('Quantidade', fontsize=12, fontweight='bold')\n",
        "plt.title(\"Número de Qtd de bans x MAPAS\")\n",
        "\n",
        "\n",
        "#Plot de torta\n",
        "plt.subplot(1, 2, 2)\n",
        "plt.pie(count, labels= mapa, autopct='%1.1f%%')\n",
        "plt.axis(\"equal\")\n",
        "plt.title(\"Porcentagem de bans - Mapas\",fontsize=15, fontweight='bold')\n",
        "plt.legend();"
      ],
      "metadata": {
        "execution": {
          "iopub.status.busy": "2022-05-05T16:42:50.8616Z",
          "iopub.execute_input": "2022-05-05T16:42:50.861865Z",
          "iopub.status.idle": "2022-05-05T16:42:51.320615Z",
          "shell.execute_reply.started": "2022-05-05T16:42:50.861835Z",
          "shell.execute_reply": "2022-05-05T16:42:51.319513Z"
        },
        "trusted": true,
        "id": "FDg0GXx6AtAD"
      },
      "execution_count": null,
      "outputs": []
    },
    {
      "cell_type": "code",
      "source": [
        "#Agora vamos pegar os lados que mais obteram derrotas e vitorias nesses mapas. (ataque/defesa)\n",
        "\n",
        "lados.info()"
      ],
      "metadata": {
        "execution": {
          "iopub.status.busy": "2022-05-05T16:42:51.322276Z",
          "iopub.execute_input": "2022-05-05T16:42:51.322705Z",
          "iopub.status.idle": "2022-05-05T16:42:51.340525Z",
          "shell.execute_reply.started": "2022-05-05T16:42:51.322654Z",
          "shell.execute_reply": "2022-05-05T16:42:51.339536Z"
        },
        "trusted": true,
        "id": "EpYmKzMpAtAD"
      },
      "execution_count": null,
      "outputs": []
    },
    {
      "cell_type": "code",
      "source": [
        "lados"
      ],
      "metadata": {
        "execution": {
          "iopub.status.busy": "2022-05-05T16:42:51.341846Z",
          "iopub.execute_input": "2022-05-05T16:42:51.342068Z",
          "iopub.status.idle": "2022-05-05T16:42:51.364952Z",
          "shell.execute_reply.started": "2022-05-05T16:42:51.34204Z",
          "shell.execute_reply": "2022-05-05T16:42:51.363972Z"
        },
        "trusted": true,
        "id": "OOFqz-76AtAD"
      },
      "execution_count": null,
      "outputs": []
    },
    {
      "cell_type": "code",
      "source": [
        "#Grafico sobre o total de picks e a % de vitorias atk e defesa\n",
        "total = lados['TotalPicks']\n",
        "atk = lados['AtkWin%']\n",
        "defe = lados['DefWin%']\n",
        "maps = lados['Map']\n",
        "\n",
        "#Configurando o tamanho do grafico\n",
        "barWidth = 0.2\n",
        "fig, ax = plt.subplots(figsize=(20,10))\n",
        "\n",
        "#Definindo a posição das barras\n",
        "\n",
        "b1 = np.arange(len(total))\n",
        "b2 = [x + barWidth for x in b1]\n",
        "b3 = [x + barWidth for x in b2]\n",
        "\n",
        "\n",
        "#Criando as barras\n",
        "ax1 = ax.bar(b2, atk, width=barWidth, label='AtkWins%', color= 'Blue')\n",
        "ax2 = ax.bar(b3, defe ,width=barWidth, label=\"DefWins%\", color='Green')\n",
        "\n",
        "#Adicionando os dados do grafico.\n",
        "\n",
        "ax.set_xlabel('MAPAS',fontsize=15, fontweight='bold')\n",
        "ax.set_xticks([r + barWidth for r in range(len(total))], ['Ascent', 'Bind', 'Breeze', 'Fracture', 'Haven', 'Icebox', 'Split'])\n",
        "ax.set_ylabel(\"% de vitorias\",fontsize=15, fontweight='bold')\n",
        "ax.set_title('Atk wins/Def Wins x MAPAS', fontsize=15, fontweight='bold')\n",
        "ax.legend()\n",
        "\n",
        "#Botando rotulos nos graficos\n",
        "\n",
        "ax.bar_label(ax1, fmt=\"%.01f%%\", size=15, label_type=\"edge\");\n",
        "ax.bar_label(ax2, fmt=\"%.01f%%\", size=15, label_type=\"edge\");"
      ],
      "metadata": {
        "execution": {
          "iopub.status.busy": "2022-05-05T16:42:51.366945Z",
          "iopub.execute_input": "2022-05-05T16:42:51.367554Z",
          "iopub.status.idle": "2022-05-05T16:42:51.716012Z",
          "shell.execute_reply.started": "2022-05-05T16:42:51.367506Z",
          "shell.execute_reply": "2022-05-05T16:42:51.71474Z"
        },
        "trusted": true,
        "id": "Xr9Jm3RKAtAE"
      },
      "execution_count": null,
      "outputs": []
    },
    {
      "cell_type": "markdown",
      "source": [
        "# O Valorant é um game lançado em 2020 pela RIOT GAMES e desde então tem crescido absurdamente entre a comunidade de FPS durante esses dois anos online, e nesse tempo alguns agentes e mapas sempre foram mais queridinhos da galera que outros. Os agentes tem kits de habilidades que fazem cada um deles unicos. A Jett por exemplo possui uma agressividade absurda com um poder de posicionamento aonde não oferece risco caso você seja um bom jogador com a mesma, por isso ela vem dominando as estatisticas de não só a mais pegada do campeonato mas também como a preferida de todos os profissionais.\n",
        "# Assim como os agentes, os mapas também tem suas individualidades, contando com:  teleportes, cordas para atravessar os mesmos, alturas e também toda uma mecânica. Icebox e a Ascent foram as preferidas para esse campeonato de nivel mundial por serem mapas mais faceis de trabalhar e pela sua rotatividade."
      ],
      "metadata": {
        "id": "tJlIj93xAtAE"
      }
    },
    {
      "cell_type": "code",
      "source": [],
      "metadata": {
        "id": "ZLCh_b42AtAE"
      },
      "execution_count": null,
      "outputs": []
    }
  ]
}